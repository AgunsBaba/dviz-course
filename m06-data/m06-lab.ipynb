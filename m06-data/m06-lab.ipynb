{
 "cells": [
  {
   "cell_type": "markdown",
   "metadata": {},
   "source": [
    "# Module 6: Data types and tidy data"
   ]
  },
  {
   "cell_type": "markdown",
   "metadata": {},
   "source": [
    "## Tidy data\n",
    "\n",
    "Let's do some tidy exercise first. This is one of the non-tidy dataset assembled by Hadley Wickham (check out [here](https://github.com/tidyverse/tidyr/tree/master/vignettes) for more datasets, explanation, and R code). \n",
    "\n",
    "Let's take a look at this small dataset: https://raw.githubusercontent.com/tidyverse/tidyr/master/vignettes/pew.csv"
   ]
  },
  {
   "cell_type": "code",
   "execution_count": 1,
   "metadata": {},
   "outputs": [],
   "source": [
    "import pandas as pd"
   ]
  },
  {
   "cell_type": "code",
   "execution_count": 2,
   "metadata": {},
   "outputs": [
    {
     "data": {
      "text/html": [
       "<div>\n",
       "<style scoped>\n",
       "    .dataframe tbody tr th:only-of-type {\n",
       "        vertical-align: middle;\n",
       "    }\n",
       "\n",
       "    .dataframe tbody tr th {\n",
       "        vertical-align: top;\n",
       "    }\n",
       "\n",
       "    .dataframe thead th {\n",
       "        text-align: right;\n",
       "    }\n",
       "</style>\n",
       "<table border=\"1\" class=\"dataframe\">\n",
       "  <thead>\n",
       "    <tr style=\"text-align: right;\">\n",
       "      <th></th>\n",
       "      <th>religion</th>\n",
       "      <th>&lt;$10k</th>\n",
       "      <th>$10-20k</th>\n",
       "      <th>$20-30k</th>\n",
       "      <th>$30-40k</th>\n",
       "      <th>$40-50k</th>\n",
       "      <th>$50-75k</th>\n",
       "      <th>$75-100k</th>\n",
       "      <th>$100-150k</th>\n",
       "      <th>&gt;150k</th>\n",
       "      <th>Don't know/refused</th>\n",
       "    </tr>\n",
       "  </thead>\n",
       "  <tbody>\n",
       "    <tr>\n",
       "      <th>0</th>\n",
       "      <td>Agnostic</td>\n",
       "      <td>27</td>\n",
       "      <td>34</td>\n",
       "      <td>60</td>\n",
       "      <td>81</td>\n",
       "      <td>76</td>\n",
       "      <td>137</td>\n",
       "      <td>122</td>\n",
       "      <td>109</td>\n",
       "      <td>84</td>\n",
       "      <td>96</td>\n",
       "    </tr>\n",
       "    <tr>\n",
       "      <th>1</th>\n",
       "      <td>Atheist</td>\n",
       "      <td>12</td>\n",
       "      <td>27</td>\n",
       "      <td>37</td>\n",
       "      <td>52</td>\n",
       "      <td>35</td>\n",
       "      <td>70</td>\n",
       "      <td>73</td>\n",
       "      <td>59</td>\n",
       "      <td>74</td>\n",
       "      <td>76</td>\n",
       "    </tr>\n",
       "    <tr>\n",
       "      <th>2</th>\n",
       "      <td>Buddhist</td>\n",
       "      <td>27</td>\n",
       "      <td>21</td>\n",
       "      <td>30</td>\n",
       "      <td>34</td>\n",
       "      <td>33</td>\n",
       "      <td>58</td>\n",
       "      <td>62</td>\n",
       "      <td>39</td>\n",
       "      <td>53</td>\n",
       "      <td>54</td>\n",
       "    </tr>\n",
       "    <tr>\n",
       "      <th>3</th>\n",
       "      <td>Catholic</td>\n",
       "      <td>418</td>\n",
       "      <td>617</td>\n",
       "      <td>732</td>\n",
       "      <td>670</td>\n",
       "      <td>638</td>\n",
       "      <td>1116</td>\n",
       "      <td>949</td>\n",
       "      <td>792</td>\n",
       "      <td>633</td>\n",
       "      <td>1489</td>\n",
       "    </tr>\n",
       "    <tr>\n",
       "      <th>4</th>\n",
       "      <td>Don’t know/refused</td>\n",
       "      <td>15</td>\n",
       "      <td>14</td>\n",
       "      <td>15</td>\n",
       "      <td>11</td>\n",
       "      <td>10</td>\n",
       "      <td>35</td>\n",
       "      <td>21</td>\n",
       "      <td>17</td>\n",
       "      <td>18</td>\n",
       "      <td>116</td>\n",
       "    </tr>\n",
       "    <tr>\n",
       "      <th>5</th>\n",
       "      <td>Evangelical Prot</td>\n",
       "      <td>575</td>\n",
       "      <td>869</td>\n",
       "      <td>1064</td>\n",
       "      <td>982</td>\n",
       "      <td>881</td>\n",
       "      <td>1486</td>\n",
       "      <td>949</td>\n",
       "      <td>723</td>\n",
       "      <td>414</td>\n",
       "      <td>1529</td>\n",
       "    </tr>\n",
       "    <tr>\n",
       "      <th>6</th>\n",
       "      <td>Hindu</td>\n",
       "      <td>1</td>\n",
       "      <td>9</td>\n",
       "      <td>7</td>\n",
       "      <td>9</td>\n",
       "      <td>11</td>\n",
       "      <td>34</td>\n",
       "      <td>47</td>\n",
       "      <td>48</td>\n",
       "      <td>54</td>\n",
       "      <td>37</td>\n",
       "    </tr>\n",
       "    <tr>\n",
       "      <th>7</th>\n",
       "      <td>Historically Black Prot</td>\n",
       "      <td>228</td>\n",
       "      <td>244</td>\n",
       "      <td>236</td>\n",
       "      <td>238</td>\n",
       "      <td>197</td>\n",
       "      <td>223</td>\n",
       "      <td>131</td>\n",
       "      <td>81</td>\n",
       "      <td>78</td>\n",
       "      <td>339</td>\n",
       "    </tr>\n",
       "    <tr>\n",
       "      <th>8</th>\n",
       "      <td>Jehovah's Witness</td>\n",
       "      <td>20</td>\n",
       "      <td>27</td>\n",
       "      <td>24</td>\n",
       "      <td>24</td>\n",
       "      <td>21</td>\n",
       "      <td>30</td>\n",
       "      <td>15</td>\n",
       "      <td>11</td>\n",
       "      <td>6</td>\n",
       "      <td>37</td>\n",
       "    </tr>\n",
       "    <tr>\n",
       "      <th>9</th>\n",
       "      <td>Jewish</td>\n",
       "      <td>19</td>\n",
       "      <td>19</td>\n",
       "      <td>25</td>\n",
       "      <td>25</td>\n",
       "      <td>30</td>\n",
       "      <td>95</td>\n",
       "      <td>69</td>\n",
       "      <td>87</td>\n",
       "      <td>151</td>\n",
       "      <td>162</td>\n",
       "    </tr>\n",
       "    <tr>\n",
       "      <th>10</th>\n",
       "      <td>Mainline Prot</td>\n",
       "      <td>289</td>\n",
       "      <td>495</td>\n",
       "      <td>619</td>\n",
       "      <td>655</td>\n",
       "      <td>651</td>\n",
       "      <td>1107</td>\n",
       "      <td>939</td>\n",
       "      <td>753</td>\n",
       "      <td>634</td>\n",
       "      <td>1328</td>\n",
       "    </tr>\n",
       "    <tr>\n",
       "      <th>11</th>\n",
       "      <td>Mormon</td>\n",
       "      <td>29</td>\n",
       "      <td>40</td>\n",
       "      <td>48</td>\n",
       "      <td>51</td>\n",
       "      <td>56</td>\n",
       "      <td>112</td>\n",
       "      <td>85</td>\n",
       "      <td>49</td>\n",
       "      <td>42</td>\n",
       "      <td>69</td>\n",
       "    </tr>\n",
       "    <tr>\n",
       "      <th>12</th>\n",
       "      <td>Muslim</td>\n",
       "      <td>6</td>\n",
       "      <td>7</td>\n",
       "      <td>9</td>\n",
       "      <td>10</td>\n",
       "      <td>9</td>\n",
       "      <td>23</td>\n",
       "      <td>16</td>\n",
       "      <td>8</td>\n",
       "      <td>6</td>\n",
       "      <td>22</td>\n",
       "    </tr>\n",
       "    <tr>\n",
       "      <th>13</th>\n",
       "      <td>Orthodox</td>\n",
       "      <td>13</td>\n",
       "      <td>17</td>\n",
       "      <td>23</td>\n",
       "      <td>32</td>\n",
       "      <td>32</td>\n",
       "      <td>47</td>\n",
       "      <td>38</td>\n",
       "      <td>42</td>\n",
       "      <td>46</td>\n",
       "      <td>73</td>\n",
       "    </tr>\n",
       "    <tr>\n",
       "      <th>14</th>\n",
       "      <td>Other Christian</td>\n",
       "      <td>9</td>\n",
       "      <td>7</td>\n",
       "      <td>11</td>\n",
       "      <td>13</td>\n",
       "      <td>13</td>\n",
       "      <td>14</td>\n",
       "      <td>18</td>\n",
       "      <td>14</td>\n",
       "      <td>12</td>\n",
       "      <td>18</td>\n",
       "    </tr>\n",
       "    <tr>\n",
       "      <th>15</th>\n",
       "      <td>Other Faiths</td>\n",
       "      <td>20</td>\n",
       "      <td>33</td>\n",
       "      <td>40</td>\n",
       "      <td>46</td>\n",
       "      <td>49</td>\n",
       "      <td>63</td>\n",
       "      <td>46</td>\n",
       "      <td>40</td>\n",
       "      <td>41</td>\n",
       "      <td>71</td>\n",
       "    </tr>\n",
       "    <tr>\n",
       "      <th>16</th>\n",
       "      <td>Other World Religions</td>\n",
       "      <td>5</td>\n",
       "      <td>2</td>\n",
       "      <td>3</td>\n",
       "      <td>4</td>\n",
       "      <td>2</td>\n",
       "      <td>7</td>\n",
       "      <td>3</td>\n",
       "      <td>4</td>\n",
       "      <td>4</td>\n",
       "      <td>8</td>\n",
       "    </tr>\n",
       "    <tr>\n",
       "      <th>17</th>\n",
       "      <td>Unaffiliated</td>\n",
       "      <td>217</td>\n",
       "      <td>299</td>\n",
       "      <td>374</td>\n",
       "      <td>365</td>\n",
       "      <td>341</td>\n",
       "      <td>528</td>\n",
       "      <td>407</td>\n",
       "      <td>321</td>\n",
       "      <td>258</td>\n",
       "      <td>597</td>\n",
       "    </tr>\n",
       "  </tbody>\n",
       "</table>\n",
       "</div>"
      ],
      "text/plain": [
       "                   religion  <$10k  $10-20k  $20-30k  $30-40k  $40-50k  \\\n",
       "0                  Agnostic     27       34       60       81       76   \n",
       "1                   Atheist     12       27       37       52       35   \n",
       "2                  Buddhist     27       21       30       34       33   \n",
       "3                  Catholic    418      617      732      670      638   \n",
       "4        Don’t know/refused     15       14       15       11       10   \n",
       "5          Evangelical Prot    575      869     1064      982      881   \n",
       "6                     Hindu      1        9        7        9       11   \n",
       "7   Historically Black Prot    228      244      236      238      197   \n",
       "8         Jehovah's Witness     20       27       24       24       21   \n",
       "9                    Jewish     19       19       25       25       30   \n",
       "10            Mainline Prot    289      495      619      655      651   \n",
       "11                   Mormon     29       40       48       51       56   \n",
       "12                   Muslim      6        7        9       10        9   \n",
       "13                 Orthodox     13       17       23       32       32   \n",
       "14          Other Christian      9        7       11       13       13   \n",
       "15             Other Faiths     20       33       40       46       49   \n",
       "16    Other World Religions      5        2        3        4        2   \n",
       "17             Unaffiliated    217      299      374      365      341   \n",
       "\n",
       "    $50-75k  $75-100k  $100-150k  >150k  Don't know/refused  \n",
       "0       137       122        109     84                  96  \n",
       "1        70        73         59     74                  76  \n",
       "2        58        62         39     53                  54  \n",
       "3      1116       949        792    633                1489  \n",
       "4        35        21         17     18                 116  \n",
       "5      1486       949        723    414                1529  \n",
       "6        34        47         48     54                  37  \n",
       "7       223       131         81     78                 339  \n",
       "8        30        15         11      6                  37  \n",
       "9        95        69         87    151                 162  \n",
       "10     1107       939        753    634                1328  \n",
       "11      112        85         49     42                  69  \n",
       "12       23        16          8      6                  22  \n",
       "13       47        38         42     46                  73  \n",
       "14       14        18         14     12                  18  \n",
       "15       63        46         40     41                  71  \n",
       "16        7         3          4      4                   8  \n",
       "17      528       407        321    258                 597  "
      ]
     },
     "execution_count": 2,
     "metadata": {},
     "output_type": "execute_result"
    }
   ],
   "source": [
    "pew_df = pd.read_csv('https://raw.githubusercontent.com/tidyverse/tidyr/master/vignettes/pew.csv')\n",
    "pew_df"
   ]
  },
  {
   "cell_type": "markdown",
   "metadata": {},
   "source": [
    "This dataset is about the relationships between income and religion, assembled from a research by the Pew Research Center. You can read more details [here](https://github.com/tidyverse/tidyr/blob/master/vignettes/tidy-data.Rmd#column-headers-are-values-not-variable-names). Is this dataset tidy or not? Why?\n",
    "\n",
    "Yes, many of the columns are values, not variable names. How should we fix it? \n",
    "\n",
    "Pandas provides a convenient function called [melt](http://pandas.pydata.org/pandas-docs/stable/generated/pandas.melt.html). You specify the `id_vars` that are variable columns, and `value_vars` that are value columns, and provide the name for the variable as well as the name for the values. \n",
    "\n",
    "**Q: so please go ahead and tidy it up! I'd suggest to use the variable name \"income\" and value name \"frequency\"**"
   ]
  },
  {
   "cell_type": "code",
   "execution_count": 37,
   "metadata": {},
   "outputs": [],
   "source": [
    "# TODO: put your code here"
   ]
  },
  {
   "cell_type": "markdown",
   "metadata": {},
   "source": [
    "If you were successful, you'll have something like this:"
   ]
  },
  {
   "cell_type": "code",
   "execution_count": 12,
   "metadata": {},
   "outputs": [
    {
     "data": {
      "text/html": [
       "<div>\n",
       "<style scoped>\n",
       "    .dataframe tbody tr th:only-of-type {\n",
       "        vertical-align: middle;\n",
       "    }\n",
       "\n",
       "    .dataframe tbody tr th {\n",
       "        vertical-align: top;\n",
       "    }\n",
       "\n",
       "    .dataframe thead th {\n",
       "        text-align: right;\n",
       "    }\n",
       "</style>\n",
       "<table border=\"1\" class=\"dataframe\">\n",
       "  <thead>\n",
       "    <tr style=\"text-align: right;\">\n",
       "      <th></th>\n",
       "      <th>religion</th>\n",
       "      <th>income</th>\n",
       "      <th>frequency</th>\n",
       "    </tr>\n",
       "  </thead>\n",
       "  <tbody>\n",
       "    <tr>\n",
       "      <th>1</th>\n",
       "      <td>Atheist</td>\n",
       "      <td>&lt;$10k</td>\n",
       "      <td>12</td>\n",
       "    </tr>\n",
       "    <tr>\n",
       "      <th>151</th>\n",
       "      <td>Historically Black Prot</td>\n",
       "      <td>&gt;150k</td>\n",
       "      <td>78</td>\n",
       "    </tr>\n",
       "    <tr>\n",
       "      <th>94</th>\n",
       "      <td>Don’t know/refused</td>\n",
       "      <td>$50-75k</td>\n",
       "      <td>35</td>\n",
       "    </tr>\n",
       "    <tr>\n",
       "      <th>58</th>\n",
       "      <td>Don’t know/refused</td>\n",
       "      <td>$30-40k</td>\n",
       "      <td>11</td>\n",
       "    </tr>\n",
       "    <tr>\n",
       "      <th>24</th>\n",
       "      <td>Hindu</td>\n",
       "      <td>$10-20k</td>\n",
       "      <td>9</td>\n",
       "    </tr>\n",
       "    <tr>\n",
       "      <th>122</th>\n",
       "      <td>Other Christian</td>\n",
       "      <td>$75-100k</td>\n",
       "      <td>18</td>\n",
       "    </tr>\n",
       "    <tr>\n",
       "      <th>142</th>\n",
       "      <td>Other World Religions</td>\n",
       "      <td>$100-150k</td>\n",
       "      <td>4</td>\n",
       "    </tr>\n",
       "    <tr>\n",
       "      <th>23</th>\n",
       "      <td>Evangelical Prot</td>\n",
       "      <td>$10-20k</td>\n",
       "      <td>869</td>\n",
       "    </tr>\n",
       "    <tr>\n",
       "      <th>5</th>\n",
       "      <td>Evangelical Prot</td>\n",
       "      <td>&lt;$10k</td>\n",
       "      <td>575</td>\n",
       "    </tr>\n",
       "    <tr>\n",
       "      <th>44</th>\n",
       "      <td>Jehovah's Witness</td>\n",
       "      <td>$20-30k</td>\n",
       "      <td>24</td>\n",
       "    </tr>\n",
       "  </tbody>\n",
       "</table>\n",
       "</div>"
      ],
      "text/plain": [
       "                    religion     income  frequency\n",
       "1                    Atheist      <$10k         12\n",
       "151  Historically Black Prot      >150k         78\n",
       "94        Don’t know/refused    $50-75k         35\n",
       "58        Don’t know/refused    $30-40k         11\n",
       "24                     Hindu    $10-20k          9\n",
       "122          Other Christian   $75-100k         18\n",
       "142    Other World Religions  $100-150k          4\n",
       "23          Evangelical Prot    $10-20k        869\n",
       "5           Evangelical Prot      <$10k        575\n",
       "44         Jehovah's Witness    $20-30k         24"
      ]
     },
     "execution_count": 12,
     "metadata": {},
     "output_type": "execute_result"
    }
   ],
   "source": [
    "pew_tidy_df.sample(10)"
   ]
  },
  {
   "cell_type": "markdown",
   "metadata": {},
   "source": [
    "## Data types\n",
    "\n",
    "Let's talk about data types briefly. Understanding data types is not only important for choosing the right visualizations, but also important for efficient computing and storage of data. You may not have thought about how pandas represent data in memory. A Pandas `Dataframe` is essentially a bunch of `Series`, and those `Series` are essentially `numpy` arrays. An array may contain a fixed-length items such as integers or variable length items such as strings. Putting some efforts to think about the correct data type can potentially save a lot of memory as well as time. \n",
    "\n",
    "A nice example would be the categorical data type. If you have a variable that only has several possible values, it's essentially a categorical data. Take a look at the `income` variable. "
   ]
  },
  {
   "cell_type": "code",
   "execution_count": 13,
   "metadata": {},
   "outputs": [
    {
     "data": {
      "text/plain": [
       "$100-150k             18\n",
       ">150k                 18\n",
       "$30-40k               18\n",
       "$20-30k               18\n",
       "$40-50k               18\n",
       "$75-100k              18\n",
       "$10-20k               18\n",
       "Don't know/refused    18\n",
       "$50-75k               18\n",
       "<$10k                 18\n",
       "Name: income, dtype: int64"
      ]
     },
     "execution_count": 13,
     "metadata": {},
     "output_type": "execute_result"
    }
   ],
   "source": [
    "pew_tidy_df.income.value_counts()"
   ]
  },
  {
   "cell_type": "markdown",
   "metadata": {},
   "source": [
    "These were the column names in the original messy data. The value can take only one of these income ranges and thus it is a categorical data. What is the data type that pandas use to store this column?"
   ]
  },
  {
   "cell_type": "code",
   "execution_count": 14,
   "metadata": {},
   "outputs": [
    {
     "data": {
      "text/plain": [
       "dtype('O')"
      ]
     },
     "execution_count": 14,
     "metadata": {},
     "output_type": "execute_result"
    }
   ],
   "source": [
    "pew_tidy_df.income.dtype"
   ]
  },
  {
   "cell_type": "markdown",
   "metadata": {},
   "source": [
    "The `O` means that it is an object data type, which does not have a fixed size like integer or float. The series contains a sort of pointer to the actual text objects. You can actually inspect the amount of memory used by the dataset. "
   ]
  },
  {
   "cell_type": "code",
   "execution_count": 15,
   "metadata": {},
   "outputs": [
    {
     "data": {
      "text/plain": [
       "Index          80\n",
       "religion     1440\n",
       "income       1440\n",
       "frequency    1440\n",
       "dtype: int64"
      ]
     },
     "execution_count": 15,
     "metadata": {},
     "output_type": "execute_result"
    }
   ],
   "source": [
    "pew_tidy_df.memory_usage()"
   ]
  },
  {
   "cell_type": "code",
   "execution_count": 16,
   "metadata": {},
   "outputs": [
    {
     "data": {
      "text/plain": [
       "Index           80\n",
       "religion     12780\n",
       "income       18180\n",
       "frequency     1440\n",
       "dtype: int64"
      ]
     },
     "execution_count": 16,
     "metadata": {},
     "output_type": "execute_result"
    }
   ],
   "source": [
    "pew_tidy_df.memory_usage(deep=True)"
   ]
  },
  {
   "cell_type": "markdown",
   "metadata": {},
   "source": [
    "What's going on with the `deep=True` option? When you don't specify `deep=True`, the memory usage method just tells you the amount of memory used by the numpy arrays in the pandas dataframe. When you pass `deep=True`, it tells you the total amount of memory by including the memory used by all the text objects. So, the `religion` and `income` columns occupies almost ten times of memory than the `frequency` column, which is simply an array of integers. "
   ]
  },
  {
   "cell_type": "code",
   "execution_count": 17,
   "metadata": {},
   "outputs": [
    {
     "data": {
      "text/plain": [
       "dtype('int64')"
      ]
     },
     "execution_count": 17,
     "metadata": {},
     "output_type": "execute_result"
    }
   ],
   "source": [
    "pew_tidy_df.frequency.dtype"
   ]
  },
  {
   "cell_type": "markdown",
   "metadata": {},
   "source": [
    "Is there any way to save up the memory? Note that there are only 10 categories in the income variable. That means we just need 10 numbers to represent the categories! Of course we need to store the names of each category, but that's just one-time cost. The simplest way to convert a column is using `astype` method. "
   ]
  },
  {
   "cell_type": "code",
   "execution_count": 18,
   "metadata": {},
   "outputs": [],
   "source": [
    "income_categorical_series = pew_tidy_df.income.astype('category')\n",
    "# you can do pew_tidy_df.income = pew_tidy_df.income.astype('category')"
   ]
  },
  {
   "cell_type": "markdown",
   "metadata": {},
   "source": [
    "Now, this series has the `CategoricalDtype` dtype. "
   ]
  },
  {
   "cell_type": "code",
   "execution_count": 19,
   "metadata": {},
   "outputs": [
    {
     "data": {
      "text/plain": [
       "CategoricalDtype(categories=['$10-20k', '$100-150k', '$20-30k', '$30-40k', '$40-50k',\n",
       "                  '$50-75k', '$75-100k', '<$10k', '>150k',\n",
       "                  'Don't know/refused'],\n",
       "                 ordered=False)"
      ]
     },
     "execution_count": 19,
     "metadata": {},
     "output_type": "execute_result"
    }
   ],
   "source": [
    "income_categorical_series.dtype"
   ]
  },
  {
   "cell_type": "markdown",
   "metadata": {},
   "source": [
    "How much memory do we use?"
   ]
  },
  {
   "cell_type": "code",
   "execution_count": 20,
   "metadata": {},
   "outputs": [
    {
     "data": {
      "text/plain": [
       "1590"
      ]
     },
     "execution_count": 20,
     "metadata": {},
     "output_type": "execute_result"
    }
   ],
   "source": [
    "income_categorical_series.memory_usage(deep=True)"
   ]
  },
  {
   "cell_type": "code",
   "execution_count": 21,
   "metadata": {},
   "outputs": [
    {
     "data": {
      "text/plain": [
       "18260"
      ]
     },
     "execution_count": 21,
     "metadata": {},
     "output_type": "execute_result"
    }
   ],
   "source": [
    "pew_tidy_df.income.memory_usage(deep=True)"
   ]
  },
  {
   "cell_type": "markdown",
   "metadata": {},
   "source": [
    "We have reduced the memory usage by almost 10 fold! Not only that, because now the values are just numbers, it will be much faster to match, filter, manipulate. If your dataset is huge, this can save up a lot of space and time. \n",
    "\n",
    "If the categories have ordering, you can specify the ordering too. "
   ]
  },
  {
   "cell_type": "code",
   "execution_count": 22,
   "metadata": {},
   "outputs": [
    {
     "data": {
      "text/plain": [
       "CategoricalDtype(categories=['Don't know/refused', '<$10k', '$10-20k', '$20-30k',\n",
       "                  '$30-40k', '$40-50k', '$50-75k', '$75-100k', '$100-150k',\n",
       "                  '>150k'],\n",
       "                 ordered=True)"
      ]
     },
     "execution_count": 22,
     "metadata": {},
     "output_type": "execute_result"
    }
   ],
   "source": [
    "from pandas.api.types import CategoricalDtype\n",
    "income_type = CategoricalDtype(categories=[\"Don't know/refused\", '<$10k', '$10-20k', '$20-30k', '$30-40k', \n",
    "                                           '$40-50k', '$50-75k', '$75-100k', '$100-150k', '>150k'], ordered=True)\n",
    "income_type"
   ]
  },
  {
   "cell_type": "code",
   "execution_count": 23,
   "metadata": {},
   "outputs": [
    {
     "data": {
      "text/plain": [
       "CategoricalDtype(categories=['Don't know/refused', '<$10k', '$10-20k', '$20-30k',\n",
       "                  '$30-40k', '$40-50k', '$50-75k', '$75-100k', '$100-150k',\n",
       "                  '>150k'],\n",
       "                 ordered=True)"
      ]
     },
     "execution_count": 23,
     "metadata": {},
     "output_type": "execute_result"
    }
   ],
   "source": [
    "pew_tidy_df.income.astype(income_type).dtype"
   ]
  },
  {
   "cell_type": "markdown",
   "metadata": {},
   "source": [
    "This data type now allows you to compare and sort based on the ordering. \n",
    "\n",
    "**Q: ok, now convert both religion and income columns of `pew_tidy_df` as categorical dtype (in place) and show that `pew_tidy_df` now uses much less memory**"
   ]
  },
  {
   "cell_type": "code",
   "execution_count": 26,
   "metadata": {},
   "outputs": [
    {
     "data": {
      "text/plain": [
       "Index          80\n",
       "religion     2119\n",
       "income       1510\n",
       "frequency    1440\n",
       "dtype: int64"
      ]
     },
     "execution_count": 26,
     "metadata": {},
     "output_type": "execute_result"
    }
   ],
   "source": [
    "# TODO: put your code here\n",
    "pew_tidy_df.income = pew_tidy_df.income.astype('category')\n",
    "pew_tidy_df.religion = pew_tidy_df.religion.astype('category')\n",
    "pew_tidy_df.memory_usage(deep=True)\n"
   ]
  },
  {
   "cell_type": "markdown",
   "metadata": {},
   "source": [
    "## If you want to know more\n",
    "\n",
    "- [Jean-Nicholas Hould: Tidy Data in Python](http://www.jeannicholashould.com/tidy-data-in-python.html)\n",
    "- [Stephen Simmons | Pandas from the Inside](https://www.youtube.com/watch?v=CowlcrtSyME)\n",
    "- [Data school: How do I make my pandas DataFrame smaller and faster?](https://www.youtube.com/watch?v=wDYDYGyN_cw)"
   ]
  },
  {
   "cell_type": "markdown",
   "metadata": {},
   "source": [
    "## Visualization\n",
    "\n",
    "Now we have a well-organized table.\n",
    "Here, we first generate a bar graph using Altair and edit it on Vega Editor.\n",
    "Finally, we'll put the figure into a webpage.\n",
    "\n",
    "First, import Altair. If you didn't install it yet, follow the instruction [here](https://altair-viz.github.io/getting_started/installation.html)."
   ]
  },
  {
   "cell_type": "code",
   "execution_count": 28,
   "metadata": {},
   "outputs": [],
   "source": [
    "import altair as alt"
   ]
  },
  {
   "cell_type": "markdown",
   "metadata": {},
   "source": [
    "Basic object of Altair for further process of visualization is \"Chart\", which takes a dataframe as an input. Let's put our dataframe as an argument for the Chart object."
   ]
  },
  {
   "cell_type": "code",
   "execution_count": 29,
   "metadata": {},
   "outputs": [],
   "source": [
    "chart = alt.Chart(pew_tidy_df)"
   ]
  },
  {
   "cell_type": "markdown",
   "metadata": {},
   "source": [
    "There are multiple ways to visualize it but here we draw a stacked bar chart showing frequencies for each income category with different colors for different religion. \n",
    "\n",
    "By using the [example code](https://altair-viz.github.io/gallery/stacked_bar_chart.html) on Altair website, create a stacked bar chart, looks like the following figure.\n",
    "\n",
    "![Stacked Bar Chart](visualization.png)"
   ]
  },
  {
   "cell_type": "code",
   "execution_count": 41,
   "metadata": {},
   "outputs": [
    {
     "data": {
      "application/vnd.vegalite.v2+json": {
       "$schema": "https://vega.github.io/schema/vega-lite/v2.6.0.json",
       "config": {
        "view": {
         "height": 300,
         "width": 400
        }
       },
       "data": {
        "name": "data-35cb11bed41e71a31789f5b89f0de5ab"
       },
       "datasets": {
        "data-35cb11bed41e71a31789f5b89f0de5ab": [
         {
          "frequency": 27,
          "income": "<$10k",
          "religion": "Agnostic"
         },
         {
          "frequency": 12,
          "income": "<$10k",
          "religion": "Atheist"
         },
         {
          "frequency": 27,
          "income": "<$10k",
          "religion": "Buddhist"
         },
         {
          "frequency": 418,
          "income": "<$10k",
          "religion": "Catholic"
         },
         {
          "frequency": 15,
          "income": "<$10k",
          "religion": "Don’t know/refused"
         },
         {
          "frequency": 575,
          "income": "<$10k",
          "religion": "Evangelical Prot"
         },
         {
          "frequency": 1,
          "income": "<$10k",
          "religion": "Hindu"
         },
         {
          "frequency": 228,
          "income": "<$10k",
          "religion": "Historically Black Prot"
         },
         {
          "frequency": 20,
          "income": "<$10k",
          "religion": "Jehovah's Witness"
         },
         {
          "frequency": 19,
          "income": "<$10k",
          "religion": "Jewish"
         },
         {
          "frequency": 289,
          "income": "<$10k",
          "religion": "Mainline Prot"
         },
         {
          "frequency": 29,
          "income": "<$10k",
          "religion": "Mormon"
         },
         {
          "frequency": 6,
          "income": "<$10k",
          "religion": "Muslim"
         },
         {
          "frequency": 13,
          "income": "<$10k",
          "religion": "Orthodox"
         },
         {
          "frequency": 9,
          "income": "<$10k",
          "religion": "Other Christian"
         },
         {
          "frequency": 20,
          "income": "<$10k",
          "religion": "Other Faiths"
         },
         {
          "frequency": 5,
          "income": "<$10k",
          "religion": "Other World Religions"
         },
         {
          "frequency": 217,
          "income": "<$10k",
          "religion": "Unaffiliated"
         },
         {
          "frequency": 34,
          "income": "$10-20k",
          "religion": "Agnostic"
         },
         {
          "frequency": 27,
          "income": "$10-20k",
          "religion": "Atheist"
         },
         {
          "frequency": 21,
          "income": "$10-20k",
          "religion": "Buddhist"
         },
         {
          "frequency": 617,
          "income": "$10-20k",
          "religion": "Catholic"
         },
         {
          "frequency": 14,
          "income": "$10-20k",
          "religion": "Don’t know/refused"
         },
         {
          "frequency": 869,
          "income": "$10-20k",
          "religion": "Evangelical Prot"
         },
         {
          "frequency": 9,
          "income": "$10-20k",
          "religion": "Hindu"
         },
         {
          "frequency": 244,
          "income": "$10-20k",
          "religion": "Historically Black Prot"
         },
         {
          "frequency": 27,
          "income": "$10-20k",
          "religion": "Jehovah's Witness"
         },
         {
          "frequency": 19,
          "income": "$10-20k",
          "religion": "Jewish"
         },
         {
          "frequency": 495,
          "income": "$10-20k",
          "religion": "Mainline Prot"
         },
         {
          "frequency": 40,
          "income": "$10-20k",
          "religion": "Mormon"
         },
         {
          "frequency": 7,
          "income": "$10-20k",
          "religion": "Muslim"
         },
         {
          "frequency": 17,
          "income": "$10-20k",
          "religion": "Orthodox"
         },
         {
          "frequency": 7,
          "income": "$10-20k",
          "religion": "Other Christian"
         },
         {
          "frequency": 33,
          "income": "$10-20k",
          "religion": "Other Faiths"
         },
         {
          "frequency": 2,
          "income": "$10-20k",
          "religion": "Other World Religions"
         },
         {
          "frequency": 299,
          "income": "$10-20k",
          "religion": "Unaffiliated"
         },
         {
          "frequency": 60,
          "income": "$20-30k",
          "religion": "Agnostic"
         },
         {
          "frequency": 37,
          "income": "$20-30k",
          "religion": "Atheist"
         },
         {
          "frequency": 30,
          "income": "$20-30k",
          "religion": "Buddhist"
         },
         {
          "frequency": 732,
          "income": "$20-30k",
          "religion": "Catholic"
         },
         {
          "frequency": 15,
          "income": "$20-30k",
          "religion": "Don’t know/refused"
         },
         {
          "frequency": 1064,
          "income": "$20-30k",
          "religion": "Evangelical Prot"
         },
         {
          "frequency": 7,
          "income": "$20-30k",
          "religion": "Hindu"
         },
         {
          "frequency": 236,
          "income": "$20-30k",
          "religion": "Historically Black Prot"
         },
         {
          "frequency": 24,
          "income": "$20-30k",
          "religion": "Jehovah's Witness"
         },
         {
          "frequency": 25,
          "income": "$20-30k",
          "religion": "Jewish"
         },
         {
          "frequency": 619,
          "income": "$20-30k",
          "religion": "Mainline Prot"
         },
         {
          "frequency": 48,
          "income": "$20-30k",
          "religion": "Mormon"
         },
         {
          "frequency": 9,
          "income": "$20-30k",
          "religion": "Muslim"
         },
         {
          "frequency": 23,
          "income": "$20-30k",
          "religion": "Orthodox"
         },
         {
          "frequency": 11,
          "income": "$20-30k",
          "religion": "Other Christian"
         },
         {
          "frequency": 40,
          "income": "$20-30k",
          "religion": "Other Faiths"
         },
         {
          "frequency": 3,
          "income": "$20-30k",
          "religion": "Other World Religions"
         },
         {
          "frequency": 374,
          "income": "$20-30k",
          "religion": "Unaffiliated"
         },
         {
          "frequency": 81,
          "income": "$30-40k",
          "religion": "Agnostic"
         },
         {
          "frequency": 52,
          "income": "$30-40k",
          "religion": "Atheist"
         },
         {
          "frequency": 34,
          "income": "$30-40k",
          "religion": "Buddhist"
         },
         {
          "frequency": 670,
          "income": "$30-40k",
          "religion": "Catholic"
         },
         {
          "frequency": 11,
          "income": "$30-40k",
          "religion": "Don’t know/refused"
         },
         {
          "frequency": 982,
          "income": "$30-40k",
          "religion": "Evangelical Prot"
         },
         {
          "frequency": 9,
          "income": "$30-40k",
          "religion": "Hindu"
         },
         {
          "frequency": 238,
          "income": "$30-40k",
          "religion": "Historically Black Prot"
         },
         {
          "frequency": 24,
          "income": "$30-40k",
          "religion": "Jehovah's Witness"
         },
         {
          "frequency": 25,
          "income": "$30-40k",
          "religion": "Jewish"
         },
         {
          "frequency": 655,
          "income": "$30-40k",
          "religion": "Mainline Prot"
         },
         {
          "frequency": 51,
          "income": "$30-40k",
          "religion": "Mormon"
         },
         {
          "frequency": 10,
          "income": "$30-40k",
          "religion": "Muslim"
         },
         {
          "frequency": 32,
          "income": "$30-40k",
          "religion": "Orthodox"
         },
         {
          "frequency": 13,
          "income": "$30-40k",
          "religion": "Other Christian"
         },
         {
          "frequency": 46,
          "income": "$30-40k",
          "religion": "Other Faiths"
         },
         {
          "frequency": 4,
          "income": "$30-40k",
          "religion": "Other World Religions"
         },
         {
          "frequency": 365,
          "income": "$30-40k",
          "religion": "Unaffiliated"
         },
         {
          "frequency": 76,
          "income": "$40-50k",
          "religion": "Agnostic"
         },
         {
          "frequency": 35,
          "income": "$40-50k",
          "religion": "Atheist"
         },
         {
          "frequency": 33,
          "income": "$40-50k",
          "religion": "Buddhist"
         },
         {
          "frequency": 638,
          "income": "$40-50k",
          "religion": "Catholic"
         },
         {
          "frequency": 10,
          "income": "$40-50k",
          "religion": "Don’t know/refused"
         },
         {
          "frequency": 881,
          "income": "$40-50k",
          "religion": "Evangelical Prot"
         },
         {
          "frequency": 11,
          "income": "$40-50k",
          "religion": "Hindu"
         },
         {
          "frequency": 197,
          "income": "$40-50k",
          "religion": "Historically Black Prot"
         },
         {
          "frequency": 21,
          "income": "$40-50k",
          "religion": "Jehovah's Witness"
         },
         {
          "frequency": 30,
          "income": "$40-50k",
          "religion": "Jewish"
         },
         {
          "frequency": 651,
          "income": "$40-50k",
          "religion": "Mainline Prot"
         },
         {
          "frequency": 56,
          "income": "$40-50k",
          "religion": "Mormon"
         },
         {
          "frequency": 9,
          "income": "$40-50k",
          "religion": "Muslim"
         },
         {
          "frequency": 32,
          "income": "$40-50k",
          "religion": "Orthodox"
         },
         {
          "frequency": 13,
          "income": "$40-50k",
          "religion": "Other Christian"
         },
         {
          "frequency": 49,
          "income": "$40-50k",
          "religion": "Other Faiths"
         },
         {
          "frequency": 2,
          "income": "$40-50k",
          "religion": "Other World Religions"
         },
         {
          "frequency": 341,
          "income": "$40-50k",
          "religion": "Unaffiliated"
         },
         {
          "frequency": 137,
          "income": "$50-75k",
          "religion": "Agnostic"
         },
         {
          "frequency": 70,
          "income": "$50-75k",
          "religion": "Atheist"
         },
         {
          "frequency": 58,
          "income": "$50-75k",
          "religion": "Buddhist"
         },
         {
          "frequency": 1116,
          "income": "$50-75k",
          "religion": "Catholic"
         },
         {
          "frequency": 35,
          "income": "$50-75k",
          "religion": "Don’t know/refused"
         },
         {
          "frequency": 1486,
          "income": "$50-75k",
          "religion": "Evangelical Prot"
         },
         {
          "frequency": 34,
          "income": "$50-75k",
          "religion": "Hindu"
         },
         {
          "frequency": 223,
          "income": "$50-75k",
          "religion": "Historically Black Prot"
         },
         {
          "frequency": 30,
          "income": "$50-75k",
          "religion": "Jehovah's Witness"
         },
         {
          "frequency": 95,
          "income": "$50-75k",
          "religion": "Jewish"
         },
         {
          "frequency": 1107,
          "income": "$50-75k",
          "religion": "Mainline Prot"
         },
         {
          "frequency": 112,
          "income": "$50-75k",
          "religion": "Mormon"
         },
         {
          "frequency": 23,
          "income": "$50-75k",
          "religion": "Muslim"
         },
         {
          "frequency": 47,
          "income": "$50-75k",
          "religion": "Orthodox"
         },
         {
          "frequency": 14,
          "income": "$50-75k",
          "religion": "Other Christian"
         },
         {
          "frequency": 63,
          "income": "$50-75k",
          "religion": "Other Faiths"
         },
         {
          "frequency": 7,
          "income": "$50-75k",
          "religion": "Other World Religions"
         },
         {
          "frequency": 528,
          "income": "$50-75k",
          "religion": "Unaffiliated"
         },
         {
          "frequency": 122,
          "income": "$75-100k",
          "religion": "Agnostic"
         },
         {
          "frequency": 73,
          "income": "$75-100k",
          "religion": "Atheist"
         },
         {
          "frequency": 62,
          "income": "$75-100k",
          "religion": "Buddhist"
         },
         {
          "frequency": 949,
          "income": "$75-100k",
          "religion": "Catholic"
         },
         {
          "frequency": 21,
          "income": "$75-100k",
          "religion": "Don’t know/refused"
         },
         {
          "frequency": 949,
          "income": "$75-100k",
          "religion": "Evangelical Prot"
         },
         {
          "frequency": 47,
          "income": "$75-100k",
          "religion": "Hindu"
         },
         {
          "frequency": 131,
          "income": "$75-100k",
          "religion": "Historically Black Prot"
         },
         {
          "frequency": 15,
          "income": "$75-100k",
          "religion": "Jehovah's Witness"
         },
         {
          "frequency": 69,
          "income": "$75-100k",
          "religion": "Jewish"
         },
         {
          "frequency": 939,
          "income": "$75-100k",
          "religion": "Mainline Prot"
         },
         {
          "frequency": 85,
          "income": "$75-100k",
          "religion": "Mormon"
         },
         {
          "frequency": 16,
          "income": "$75-100k",
          "religion": "Muslim"
         },
         {
          "frequency": 38,
          "income": "$75-100k",
          "religion": "Orthodox"
         },
         {
          "frequency": 18,
          "income": "$75-100k",
          "religion": "Other Christian"
         },
         {
          "frequency": 46,
          "income": "$75-100k",
          "religion": "Other Faiths"
         },
         {
          "frequency": 3,
          "income": "$75-100k",
          "religion": "Other World Religions"
         },
         {
          "frequency": 407,
          "income": "$75-100k",
          "religion": "Unaffiliated"
         },
         {
          "frequency": 109,
          "income": "$100-150k",
          "religion": "Agnostic"
         },
         {
          "frequency": 59,
          "income": "$100-150k",
          "religion": "Atheist"
         },
         {
          "frequency": 39,
          "income": "$100-150k",
          "religion": "Buddhist"
         },
         {
          "frequency": 792,
          "income": "$100-150k",
          "religion": "Catholic"
         },
         {
          "frequency": 17,
          "income": "$100-150k",
          "religion": "Don’t know/refused"
         },
         {
          "frequency": 723,
          "income": "$100-150k",
          "religion": "Evangelical Prot"
         },
         {
          "frequency": 48,
          "income": "$100-150k",
          "religion": "Hindu"
         },
         {
          "frequency": 81,
          "income": "$100-150k",
          "religion": "Historically Black Prot"
         },
         {
          "frequency": 11,
          "income": "$100-150k",
          "religion": "Jehovah's Witness"
         },
         {
          "frequency": 87,
          "income": "$100-150k",
          "religion": "Jewish"
         },
         {
          "frequency": 753,
          "income": "$100-150k",
          "religion": "Mainline Prot"
         },
         {
          "frequency": 49,
          "income": "$100-150k",
          "religion": "Mormon"
         },
         {
          "frequency": 8,
          "income": "$100-150k",
          "religion": "Muslim"
         },
         {
          "frequency": 42,
          "income": "$100-150k",
          "religion": "Orthodox"
         },
         {
          "frequency": 14,
          "income": "$100-150k",
          "religion": "Other Christian"
         },
         {
          "frequency": 40,
          "income": "$100-150k",
          "religion": "Other Faiths"
         },
         {
          "frequency": 4,
          "income": "$100-150k",
          "religion": "Other World Religions"
         },
         {
          "frequency": 321,
          "income": "$100-150k",
          "religion": "Unaffiliated"
         },
         {
          "frequency": 84,
          "income": ">150k",
          "religion": "Agnostic"
         },
         {
          "frequency": 74,
          "income": ">150k",
          "religion": "Atheist"
         },
         {
          "frequency": 53,
          "income": ">150k",
          "religion": "Buddhist"
         },
         {
          "frequency": 633,
          "income": ">150k",
          "religion": "Catholic"
         },
         {
          "frequency": 18,
          "income": ">150k",
          "religion": "Don’t know/refused"
         },
         {
          "frequency": 414,
          "income": ">150k",
          "religion": "Evangelical Prot"
         },
         {
          "frequency": 54,
          "income": ">150k",
          "religion": "Hindu"
         },
         {
          "frequency": 78,
          "income": ">150k",
          "religion": "Historically Black Prot"
         },
         {
          "frequency": 6,
          "income": ">150k",
          "religion": "Jehovah's Witness"
         },
         {
          "frequency": 151,
          "income": ">150k",
          "religion": "Jewish"
         },
         {
          "frequency": 634,
          "income": ">150k",
          "religion": "Mainline Prot"
         },
         {
          "frequency": 42,
          "income": ">150k",
          "religion": "Mormon"
         },
         {
          "frequency": 6,
          "income": ">150k",
          "religion": "Muslim"
         },
         {
          "frequency": 46,
          "income": ">150k",
          "religion": "Orthodox"
         },
         {
          "frequency": 12,
          "income": ">150k",
          "religion": "Other Christian"
         },
         {
          "frequency": 41,
          "income": ">150k",
          "religion": "Other Faiths"
         },
         {
          "frequency": 4,
          "income": ">150k",
          "religion": "Other World Religions"
         },
         {
          "frequency": 258,
          "income": ">150k",
          "religion": "Unaffiliated"
         },
         {
          "frequency": 96,
          "income": "Don't know/refused",
          "religion": "Agnostic"
         },
         {
          "frequency": 76,
          "income": "Don't know/refused",
          "religion": "Atheist"
         },
         {
          "frequency": 54,
          "income": "Don't know/refused",
          "religion": "Buddhist"
         },
         {
          "frequency": 1489,
          "income": "Don't know/refused",
          "religion": "Catholic"
         },
         {
          "frequency": 116,
          "income": "Don't know/refused",
          "religion": "Don’t know/refused"
         },
         {
          "frequency": 1529,
          "income": "Don't know/refused",
          "religion": "Evangelical Prot"
         },
         {
          "frequency": 37,
          "income": "Don't know/refused",
          "religion": "Hindu"
         },
         {
          "frequency": 339,
          "income": "Don't know/refused",
          "religion": "Historically Black Prot"
         },
         {
          "frequency": 37,
          "income": "Don't know/refused",
          "religion": "Jehovah's Witness"
         },
         {
          "frequency": 162,
          "income": "Don't know/refused",
          "religion": "Jewish"
         },
         {
          "frequency": 1328,
          "income": "Don't know/refused",
          "religion": "Mainline Prot"
         },
         {
          "frequency": 69,
          "income": "Don't know/refused",
          "religion": "Mormon"
         },
         {
          "frequency": 22,
          "income": "Don't know/refused",
          "religion": "Muslim"
         },
         {
          "frequency": 73,
          "income": "Don't know/refused",
          "religion": "Orthodox"
         },
         {
          "frequency": 18,
          "income": "Don't know/refused",
          "religion": "Other Christian"
         },
         {
          "frequency": 71,
          "income": "Don't know/refused",
          "religion": "Other Faiths"
         },
         {
          "frequency": 8,
          "income": "Don't know/refused",
          "religion": "Other World Religions"
         },
         {
          "frequency": 597,
          "income": "Don't know/refused",
          "religion": "Unaffiliated"
         }
        ]
       },
       "encoding": {
        "color": {
         "field": "religion",
         "type": "nominal"
        },
        "x": {
         "field": "income",
         "type": "nominal"
        },
        "y": {
         "field": "frequency",
         "type": "quantitative"
        }
       },
       "mark": "bar"
      },
      "image/png": "[encoded data removed]",
      "text/plain": [
       "<VegaLite 2 object>\n",
       "\n",
       "If you see this message, it means the renderer has not been properly enabled\n",
       "for the frontend that you are using. For more information, see\n",
       "https://altair-viz.github.io/user_guide/troubleshooting.html\n"
      ]
     },
     "execution_count": 41,
     "metadata": {},
     "output_type": "execute_result"
    }
   ],
   "source": [
    "# TODO: put your code here\n",
    "\n",
    "chart.mark_bar().encode(\n",
    "x='income', y='frequency', color='religion')"
   ]
  },
  {
   "cell_type": "markdown",
   "metadata": {},
   "source": [
    "Looks good, except the orientation - it seems better if we can turn it about 90 degrees so the vertical axis becomes income while the horizontal axis becomes frequency.\n",
    "\n",
    "Let's move to Vega Editor to change the size of figure and other small features. \n",
    "\n",
    "If you click ![menu button](menu1.png) at the rigt top side of the figure, \n",
    "you can see the menus including **Save as SVG**, **Save as PNG**, ..., **Open in Vega Editor**.\n",
    "\n",
    "In this editor, you can conver the orientation of this figure by changing values of x-axis and y-axis each other.\n",
    "\n",
    "Does it look like the following figure now?\n",
    "\n",
    "![new stacked bar chart](visualization2.png)"
   ]
  },
  {
   "cell_type": "markdown",
   "metadata": {},
   "source": [
    "Now, put this figure into the html file to publish it on the web.\n",
    "\n",
    "Open the `result.html` file in this folder, and put your code in Vega Editor in the right format with the right variable, \n",
    "following [this example](https://vega.github.io/vega-lite/tutorials/getting_started.html#embed)."
   ]
  },
  {
   "cell_type": "code",
   "execution_count": 42,
   "metadata": {},
   "outputs": [],
   "source": [
    "# TODO: Submit the result.html including your figure."
   ]
  }
 ],
 "metadata": {
  "anaconda-cloud": {},
  "kernelspec": {
   "display_name": "Python 3",
   "language": "python",
   "name": "python3"
  },
  "language_info": {
   "codemirror_mode": {
    "name": "ipython",
    "version": 3
   },
   "file_extension": ".py",
   "mimetype": "text/x-python",
   "name": "python",
   "nbconvert_exporter": "python",
   "pygments_lexer": "ipython3",
   "version": "3.7.0"
  }
 },
 "nbformat": 4,
 "nbformat_minor": 2
}
